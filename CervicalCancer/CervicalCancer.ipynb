{
 "cells": [
  {
   "cell_type": "markdown",
   "metadata": {},
   "source": [
    "# 1、概要"
   ]
  },
  {
   "cell_type": "code",
   "execution_count": null,
   "metadata": {
    "collapsed": true
   },
   "outputs": [],
   "source": [
    "import numpy as np\n",
    "import pandas as pd\n",
    "import matplotlib.pyplot as plt\n",
    "import seaborn as sns\n",
    "from skimage.io import imread, imshow\n",
    "import cv2\n",
    "\n",
    "%matplotlib inline\n",
    "import plotly.offline as py\n",
    "py.init_notebook_mode(connected=True)\n",
    "import plotly.graph_objs as go\n",
    "import plotly.tools as tls\n",
    "\n",
    "from subprocess import check_output\n",
    "print(check_output([\"ls\", \"../input/train\"]).decode(\"utf8\"))"
   ]
  },
  {
   "cell_type": "markdown",
   "metadata": {},
   "source": [
    "# 2、准备数据"
   ]
  },
  {
   "cell_type": "markdown",
   "metadata": {},
   "source": [
    "查看目标变量的分布。当分布不平衡时，根据评分标准和具体模型的使用不同，可能会严重影响性能。\n",
    "\n",
    "对 Numerical Variable，可以用 Box Plot 来直观地查看它的分布。\n",
    "\n",
    "对于坐标类数据，可以用 Scatter Plot 来查看它们的分布趋势和是否有离群点的存在。\n",
    "\n",
    "对于分类问题，将数据根据 Label 的不同着不同的颜色绘制出来，这对 Feature 的构造很有帮助。\n",
    "\n",
    "绘制变量之间两两的分布和相关度图表。"
   ]
  },
  {
   "cell_type": "code",
   "execution_count": null,
   "metadata": {
    "collapsed": true
   },
   "outputs": [],
   "source": [
    "from glob import glob\n",
    "basepath = '../input/train/'\n",
    "\n",
    "all_cervix_images = []\n",
    "\n",
    "for path in sorted(glob(basepath + \"*\")):\n",
    "    cervix_type = path.split(\"/\")[-1]\n",
    "    cervix_images = sorted(glob(basepath + cervix_type + \"/*\"))\n",
    "    all_cervix_images = all_cervix_images + cervix_images\n",
    "\n",
    "all_cervix_images = pd.DataFrame({'imagepath': all_cervix_images})\n",
    "all_cervix_images['filetype'] = all_cervix_images.apply(lambda row: row.imagepath.split(\".\")[-1], axis=1)\n",
    "all_cervix_images['type'] = all_cervix_images.apply(lambda row: row.imagepath.split(\"/\")[-2], axis=1)\n",
    "all_cervix_images.head()"
   ]
  },
  {
   "cell_type": "markdown",
   "metadata": {},
   "source": [
    "## 2.1 图像类型"
   ]
  },
  {
   "cell_type": "markdown",
   "metadata": {},
   "source": [
    "现在我们有了一个方便的dataframe数据，我们可以对数据进行一些聚合。让我们先看看每个子宫颈类型和它们的文件类型有多少个图像。\n",
    "\n",
    "所有的文件都是JPG格式的，2型是最常见的一种，在训练数据中，总共有略多于50%的数据，1型在训练数据中略少于20%。"
   ]
  },
  {
   "cell_type": "code",
   "execution_count": null,
   "metadata": {
    "collapsed": true
   },
   "outputs": [],
   "source": [
    "print('We have a total of {} images in the whole dataset'.format(all_cervix_images.shape[0]))\n",
    "type_aggregation = all_cervix_images.groupby(['type', 'filetype']).agg('count')  # agg：聚合\n",
    "type_aggregation_p = type_aggregation.apply(lambda row: 1.0*row['imagepath']/all_cervix_images.shape[0], axis=1)\n",
    "\n",
    "fig, axes = plt.subplots(nrows=2, ncols=1, figsize=(10, 8))\n",
    "\n",
    "type_aggregation.plot.barh(ax=axes[0])\n",
    "axes[0].set_xlabel(\"image count\")\n",
    "type_aggregation_p.plot.barh(ax=axes[1])\n",
    "axes[1].set_xlabel(\"training size fraction\")"
   ]
  },
  {
   "cell_type": "markdown",
   "metadata": {},
   "source": [
    "查看每个类型的文件，以了解图像的外观。\n",
    "\n",
    "这些图像在样式上似乎有所不同，前两个样本只有一个圆形区域和实际图像，最后一个样本在一个矩形中有图像。"
   ]
  },
  {
   "cell_type": "code",
   "execution_count": null,
   "metadata": {
    "collapsed": true
   },
   "outputs": [],
   "source": [
    "fig = plt.figure(figsize=(12,8))\n",
    "\n",
    "i = 1\n",
    "for t in all_cervix_images['type'].unique():\n",
    "    ax = fig.add_subplot(1,3,i)\n",
    "    i += 1\n",
    "    f = all_cervix_images[all_cervix_images['type'] == t]['imagepath'].values[0]\n",
    "    plt.imshow(plt.imread(f))\n",
    "    plt.title('sample for cervix {}'.format(t))"
   ]
  }
 ],
 "metadata": {
  "kernelspec": {
   "display_name": "Python 3",
   "language": "python",
   "name": "python3"
  },
  "language_info": {
   "codemirror_mode": {
    "name": "ipython",
    "version": 3
   },
   "file_extension": ".py",
   "mimetype": "text/x-python",
   "name": "python",
   "nbconvert_exporter": "python",
   "pygments_lexer": "ipython3",
   "version": "3.6.2"
  }
 },
 "nbformat": 4,
 "nbformat_minor": 2
}
