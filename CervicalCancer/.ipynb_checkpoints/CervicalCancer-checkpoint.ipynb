{
 "cells": [
  {
   "cell_type": "markdown",
   "metadata": {},
   "source": [
    "# 1、概要"
   ]
  },
  {
   "cell_type": "code",
   "execution_count": null,
   "metadata": {
    "collapsed": true
   },
   "outputs": [],
   "source": [
    "import numpy as np\n",
    "import pandas as pd\n",
    "import matplotlib.pyplot as plt\n",
    "import seaborn as sns\n",
    "from skimage.io import imread, imshow\n",
    "import cv2\n",
    "\n",
    "%matplotlib inline\n",
    "import plotly.offline as py\n",
    "py.init_notebook_mode(connected=True)\n",
    "import plotly.graph_objs as go\n",
    "import plotly.tools as tls\n",
    "\n",
    "from subprocess import check_output\n",
    "print(check_output([\"ls\", \"../input/train\"]).decode(\"utf8\"))"
   ]
  },
  {
   "cell_type": "markdown",
   "metadata": {},
   "source": [
    "# 2、准备数据"
   ]
  },
  {
   "cell_type": "markdown",
   "metadata": {},
   "source": [
    "查看目标变量的分布。当分布不平衡时，根据评分标准和具体模型的使用不同，可能会严重影响性能。\n",
    "\n",
    "对 Numerical Variable，可以用 Box Plot 来直观地查看它的分布。\n",
    "\n",
    "对于坐标类数据，可以用 Scatter Plot 来查看它们的分布趋势和是否有离群点的存在。\n",
    "\n",
    "对于分类问题，将数据根据 Label 的不同着不同的颜色绘制出来，这对 Feature 的构造很有帮助。\n",
    "\n",
    "绘制变量之间两两的分布和相关度图表。"
   ]
  },
  {
   "cell_type": "code",
   "execution_count": null,
   "metadata": {
    "collapsed": true
   },
   "outputs": [],
   "source": [
    "from glob import glob\n",
    "basepath = '../input/train/'\n",
    "\n",
    "all_cervix_images = []\n",
    "\n",
    "for path in sorted(glob(basepath + \"*\")):\n",
    "    cervix_type = path.split(\"/\")[-1]\n",
    "    cervix_images = sorted(glob(basepath + cervix_type + \"/*\"))\n",
    "    all_cervix_images = all_cervix_images + cervix_images\n",
    "\n",
    "all_cervix_images = pd.DataFrame({'imagepath': all_cervix_images})\n",
    "all_cervix_images['filetype'] = all_cervix_images.apply(lambda row: row.imagepath.split(\".\")[-1], axis=1)\n",
    "all_cervix_images['type'] = all_cervix_images.apply(lambda row: row.imagepath.split(\"/\")[-2], axis=1)\n",
    "all_cervix_images.head()"
   ]
  },
  {
   "cell_type": "markdown",
   "metadata": {},
   "source": [
    "## 2.1 图像类型"
   ]
  },
  {
   "cell_type": "markdown",
   "metadata": {},
   "source": [
    "现在我们有了一个方便的dataframe数据，我们可以对数据进行一些聚合。让我们先看看每个子宫颈类型和它们的文件类型有多少个图像。\n",
    "\n",
    "所有的文件都是JPG格式的，2型是最常见的一种，在训练数据中，总共有略多于50%的数据，1型在训练数据中略少于20%。"
   ]
  },
  {
   "cell_type": "code",
   "execution_count": null,
   "metadata": {
    "collapsed": true
   },
   "outputs": [],
   "source": [
    "print('We have a total of {} images in the whole dataset'.format(all_cervix_images.shape[0]))\n",
    "type_aggregation = all_cervix_images.groupby(['type', 'filetype']).agg('count')  # agg：聚合\n",
    "type_aggregation_p = type_aggregation.apply(lambda row: 1.0*row['imagepath']/all_cervix_images.shape[0], axis=1)\n",
    "\n",
    "fig, axes = plt.subplots(nrows=2, ncols=1, figsize=(10, 8))\n",
    "\n",
    "type_aggregation.plot.barh(ax=axes[0])  # barh:水平条形图\n",
    "axes[0].set_xlabel(\"image count\")\n",
    "type_aggregation_p.plot.barh(ax=axes[1])\n",
    "axes[1].set_xlabel(\"training size fraction\")"
   ]
  },
  {
   "cell_type": "markdown",
   "metadata": {},
   "source": [
    "查看每个类型的文件，以了解图像的外观。\n",
    "\n",
    "这些图像在样式上似乎有所不同，前两个样本只有一个圆形区域和实际图像，最后一个样本在一个矩形中有图像。"
   ]
  },
  {
   "cell_type": "code",
   "execution_count": null,
   "metadata": {
    "collapsed": true
   },
   "outputs": [],
   "source": [
    "fig = plt.figure(figsize=(12,8))\n",
    "\n",
    "i = 1\n",
    "for t in all_cervix_images['type'].unique():\n",
    "    ax = fig.add_subplot(1,3,i)\n",
    "    i += 1\n",
    "    f = all_cervix_images[all_cervix_images['type'] == t]['imagepath'].values[0]\n",
    "    plt.imshow(plt.imread(f))\n",
    "    plt.title('sample for cervix {}'.format(t))"
   ]
  },
  {
   "cell_type": "markdown",
   "metadata": {},
   "source": [
    "## 2.1 图像尺寸"
   ]
  },
  {
   "cell_type": "code",
   "execution_count": null,
   "metadata": {
    "collapsed": true
   },
   "outputs": [],
   "source": [
    "查看下有多少种不同尺寸（shape）的图像。为了减少运行时间，每个类只需要一个子样本。"
   ]
  },
  {
   "cell_type": "code",
   "execution_count": null,
   "metadata": {
    "collapsed": true
   },
   "outputs": [],
   "source": [
    "from collections import defaultdict  # 使用dict时，如果引用的Key不存在，就会抛出KeyError。如果希望key不存在时，返回一个默认值，就可以用defaultdict\n",
    "\n",
    "images = defaultdict(list)\n",
    "\n",
    "for t in all_cervix_images['type'].unique():\n",
    "    sample_counter = 0\n",
    "    for _, row in all_cervix_images[all_cervix_images['type'] == t].iterrows():\n",
    "        #print('reading image {}'.format(row.imagepath))\n",
    "        try:\n",
    "            img = imread(row.imagepath)\n",
    "            sample_counter +=1\n",
    "            images[t].append(img)\n",
    "        except:\n",
    "            print('image read failed for {}'.format(row.imagepath))\n",
    "        if sample_counter > 35:  # 每种图取36幅\n",
    "            break"
   ]
  },
  {
   "cell_type": "code",
   "execution_count": null,
   "metadata": {
    "collapsed": true
   },
   "outputs": [],
   "source": [
    "dfs = []\n",
    "for t in all_cervix_images['type'].unique():\n",
    "    t_ = pd.DataFrame(\n",
    "        {\n",
    "            'nrows': list(map(lambda i: i.shape[0], images[t])),\n",
    "            'ncols': list(map(lambda i: i.shape[1], images[t])),\n",
    "            'nchans': list(map(lambda i: i.shape[2], images[t])),\n",
    "            'type': t\n",
    "        }\n",
    "    )\n",
    "    dfs.append(t_)\n",
    "\n",
    "shapes_df = pd.concat(dfs, axis=0)  # 合并\n",
    "# 获取每种图各尺寸的数目统计\n",
    "shapes_df_grouped = shapes_df.groupby(by=['nchans', 'ncols', 'nrows', 'type']).size().reset_index().sort_values(['type', 0], ascending=False)\n",
    "shapes_df_grouped"
   ]
  }
 ],
 "metadata": {
  "kernelspec": {
   "display_name": "Python 3",
   "language": "python",
   "name": "python3"
  },
  "language_info": {
   "codemirror_mode": {
    "name": "ipython",
    "version": 3
   },
   "file_extension": ".py",
   "mimetype": "text/x-python",
   "name": "python",
   "nbconvert_exporter": "python",
   "pygments_lexer": "ipython3",
   "version": "3.6.2"
  }
 },
 "nbformat": 4,
 "nbformat_minor": 2
}
