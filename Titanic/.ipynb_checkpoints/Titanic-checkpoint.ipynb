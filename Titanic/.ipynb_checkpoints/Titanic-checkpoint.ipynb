{
 "cells": [
  {
   "cell_type": "code",
   "execution_count": null,
   "metadata": {},
   "outputs": [],
   "source": [
    "# This Python 3 environment comes with many helpful analytics libraries installed\n",
    "# It is defined by the kaggle/python docker image: https://github.com/kaggle/docker-python\n",
    "# For example, here's several helpful packages to load in \n",
    "\n",
    "import numpy as np # linear algebra\n",
    "import pandas as pd # data processing, CSV file I/O (e.g. pd.read_csv)\n",
    "\n",
    "# Input data files are available in the \"../input/\" directory.\n",
    "# For example, running this (by clicking run or pressing Shift+Enter) will list the files in the input directory\n",
    "\n",
    "from subprocess import check_output\n",
    "print(check_output([\"ls\", \"../Titanic\"]).decode(\"utf8\"))\n",
    "\n",
    "# Any results you write to the current directory are saved as output."
   ]
  },
  {
   "cell_type": "markdown",
   "metadata": {},
   "source": [
    "# 数据预览"
   ]
  },
  {
   "cell_type": "code",
   "execution_count": null,
   "metadata": {},
   "outputs": [],
   "source": [
    "data_train = pd.read_csv(\"../Titanic/train.csv\")\n",
    "data_test = pd.read_csv(\"../Titanic/test.csv\")\n",
    "\n",
    "# 分别输出训练数据和验证数据的基本信息。对数据的规模、各特征的数据类型及是否缺失有一个总体了解\n",
    "data_train.info()  # 数据统计信息\n",
    "\n",
    "data_test.info()\n",
    "\n",
    "# data_train.describe() # 查看数值型列的汇总统计\n",
    "# 总生存率"
   ]
  },
  {
   "cell_type": "markdown",
   "metadata": {},
   "source": [
    "# 数据分析"
   ]
  },
  {
   "cell_type": "code",
   "execution_count": null,
   "metadata": {
    "collapsed": true
   },
   "outputs": [],
   "source": [
    "import matplotlib.pyplot as plt"
   ]
  },
  {
   "cell_type": "code",
   "execution_count": null,
   "metadata": {},
   "outputs": [],
   "source": [
    "# Pclass         891 non-null int64\n",
    "fig = plt.figure()\n",
    "Pclass_survived_rate = (data_train.groupby(['Pclass']).sum() / data_train.groupby(['Pclass']).count())['Survived']\n",
    "Pclass_survived_rate.plot(kind='bar')\n",
    "plt.title('Sex_survived_rate') \n",
    "plt.show()\n",
    "# 乘客社会等级越高，幸存率越高"
   ]
  },
  {
   "cell_type": "code",
   "execution_count": null,
   "metadata": {
    "collapsed": true
   },
   "outputs": [],
   "source": [
    "# Name           891 non-null object"
   ]
  },
  {
   "cell_type": "code",
   "execution_count": null,
   "metadata": {},
   "outputs": [],
   "source": [
    "# Sex            891 non-null object\n",
    "fig = plt.figure()\n",
    "Sex_survived_rate = (data_train.groupby(['Sex']).sum() / data_train.groupby(['Sex']).count())['Survived']\n",
    "Sex_survived_rate.plot(kind='bar')\n",
    "plt.title('Sex_survived_rate') \n",
    "plt.show()\n",
    "# 女性幸存率远高于男性"
   ]
  },
  {
   "cell_type": "code",
   "execution_count": null,
   "metadata": {},
   "outputs": [],
   "source": [
    "# Age            714 non-null float64\n",
    "\n",
    "# 对于连续型数值变量，可以先做特征离散化\n",
    "age_clean_date = data_train[~np.isnan(data_train['Age'])] #去除年龄数据中的NaN \n",
    "ages = np.arange(0,81,5) #0~80岁，每5岁一段（年龄最大80岁） \n",
    "age_cut = pd.cut(age_clean_date.Age, ages) \n",
    "age_cut_grouped = age_clean_date.groupby(age_cut) \n",
    "age_Survival_Rate = (age_cut_grouped.sum() / age_cut_grouped.count())['Survived'] #计算每年龄段的幸存率 \n",
    "age_Survival_Rate.plot(kind='bar')\n",
    "plt.title('Age_group_survived_rate') \n",
    "plt.show()\n",
    "# 未成年人幸存率高于成年人"
   ]
  },
  {
   "cell_type": "code",
   "execution_count": null,
   "metadata": {},
   "outputs": [],
   "source": [
    "# SibSp          891 non-null int64\n",
    "fig = plt.figure()\n",
    "SibSp_survived_rate = (data_train.groupby(['SibSp']).sum() / data_train.groupby(['SibSp']).count())['Survived']\n",
    "SibSp_survived_rate.plot(kind='bar')\n",
    "plt.title('SibSp_survived_rate') \n",
    "plt.show()\n",
    "# 配偶及兄弟姐妹数适中的乘客更易幸存"
   ]
  },
  {
   "cell_type": "code",
   "execution_count": null,
   "metadata": {},
   "outputs": [],
   "source": [
    "# Parch          891 non-null int64\n",
    "fig = plt.figure()\n",
    "Parch_survived_rate = (data_train.groupby(['Parch']).sum() / data_train.groupby(['Parch']).count())['Survived']\n",
    "Parch_survived_rate.plot(kind='bar')\n",
    "plt.title('Parch_survived_rate') \n",
    "plt.show()\n",
    "# FamilySize为2到4的乘客幸存可能性较高"
   ]
  },
  {
   "cell_type": "code",
   "execution_count": null,
   "metadata": {
    "collapsed": true
   },
   "outputs": [],
   "source": [
    "# Ticket         891 non-null object"
   ]
  },
  {
   "cell_type": "code",
   "execution_count": null,
   "metadata": {},
   "outputs": [],
   "source": [
    "# Fare           891 non-null float64\n",
    "fig = plt.figure()\n",
    "Fare_survived_rate = (data_train.groupby(['Fare']).sum() / data_train.groupby(['Fare']).count())['Survived']\n",
    "Fare_survived_rate.plot()\n",
    "plt.title('Fare_survived_rate') \n",
    "plt.show()\n",
    "# 支出船票费越高幸存率越高"
   ]
  },
  {
   "cell_type": "code",
   "execution_count": null,
   "metadata": {},
   "outputs": [],
   "source": [
    "# Cabin          204 non-null object\n",
    "fig = plt.figure()\n",
    "Cabin_survived_rate = (data_train.groupby(['Cabin']).sum() / data_train.groupby(['Cabin']).count())['Survived']\n",
    "Cabin_survived_rate.plot()\n",
    "plt.title('Cabin_survived_rate') \n",
    "plt.show()\n",
    "# 不同仓位的乘客幸存率不同"
   ]
  },
  {
   "cell_type": "code",
   "execution_count": null,
   "metadata": {},
   "outputs": [],
   "source": [
    "# Embarked       889 non-null object\n",
    "fig = plt.figure()\n",
    "Embarked_survived_rate = (data_train.groupby(['Embarked']).sum() / data_train.groupby(['Embarked']).count())['Survived']\n",
    "Embarked_survived_rate.plot(kind='bar')\n",
    "plt.title('Embarked_survived_rate') \n",
    "plt.show()\n",
    "# Embarked为S的乘客幸存率较低"
   ]
  },
  {
   "cell_type": "markdown",
   "metadata": {},
   "source": [
    "# 特征选择"
   ]
  },
  {
   "cell_type": "code",
   "execution_count": null,
   "metadata": {},
   "outputs": [],
   "source": [
    "selected_features = ['Pclass', 'Sex', 'Age', 'Embarked', 'SibSp', 'Parch', 'Fare']\n",
    "\n",
    "X_train = data_train[selected_features]\n",
    "X_test = data_test[selected_features]\n",
    "\n",
    "y_train = data_train['Survived']"
   ]
  },
  {
   "cell_type": "markdown",
   "metadata": {},
   "source": [
    "# 填补缺失值"
   ]
  },
  {
   "cell_type": "code",
   "execution_count": null,
   "metadata": {},
   "outputs": [],
   "source": [
    "# Embarked\n",
    "print(X_train['Embarked'].value_counts())\n",
    "print(X_test['Embarked'].value_counts())\n",
    "\n",
    "# 对于这种类别型的特征，使用出现频率最高的特征值来填充\n",
    "X_train['Embarked'].fillna('S', inplace=True) # 替换空值，inplace=True直接修改\n",
    "X_test['Embarked'].fillna('S', inplace=True)"
   ]
  },
  {
   "cell_type": "code",
   "execution_count": null,
   "metadata": {},
   "outputs": [],
   "source": [
    "# Age\n",
    "\n",
    "# 对于这种数值型的特征，用求平均值或中位数来填充\n",
    "X_train['Age'].fillna(X_train['Age'].mean(), inplace=True)  # mean均值，median中位数\n",
    "X_test['Age'].fillna(X_test['Age'].mean(), inplace=True)\n",
    "\n",
    "# Fare\n",
    "X_test['Fare'].fillna(X_test['Fare'].mean(), inplace=True)"
   ]
  },
  {
   "cell_type": "code",
   "execution_count": null,
   "metadata": {},
   "outputs": [],
   "source": [
    "# 重新查验数据\n",
    "print(X_train.info())\n",
    "print(X_test.info())"
   ]
  },
  {
   "cell_type": "code",
   "execution_count": null,
   "metadata": {},
   "outputs": [],
   "source": [
    "# 采用DictVectorizer对特征向量化\n",
    "from sklearn.feature_extraction import DictVectorizer\n",
    "\n",
    "dict_vec = DictVectorizer(sparse=False)\n",
    "X_train = dict_vec.fit_transform(X_train.to_dict(orient=\"record\"))\n",
    "print(dict_vec.feature_names_)\n",
    "\n",
    "X_test = dict_vec.fit_transform(X_test.to_dict(orient='record'))\n",
    "print(X_test.feature_names_)"
   ]
  },
  {
   "cell_type": "code",
   "execution_count": null,
   "metadata": {
    "collapsed": true
   },
   "outputs": [],
   "source": [
    "# 随机森林\n",
    "from sklearn.ensemble import RandomForestClassifier\n",
    "\n",
    "# 使用默认配置初始化\n",
    "rfc = RandomForestClassifier()\n",
    "\n"
   ]
  }
 ],
 "metadata": {
  "kernelspec": {
   "display_name": "Python 3",
   "language": "python",
   "name": "python3"
  },
  "language_info": {
   "codemirror_mode": {
    "name": "ipython",
    "version": 3
   },
   "file_extension": ".py",
   "mimetype": "text/x-python",
   "name": "python",
   "nbconvert_exporter": "python",
   "pygments_lexer": "ipython3",
   "version": "3.6.2"
  }
 },
 "nbformat": 4,
 "nbformat_minor": 2
}
