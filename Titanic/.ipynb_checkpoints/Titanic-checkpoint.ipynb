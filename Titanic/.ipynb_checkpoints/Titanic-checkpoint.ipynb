{
 "cells": [
  {
   "cell_type": "code",
   "execution_count": 18,
   "metadata": {},
   "outputs": [
    {
     "name": "stdout",
     "output_type": "stream",
     "text": [
      "Titanic.ipynb\n",
      "gender_submission.csv\n",
      "rfc_submission.csv\n",
      "test.csv\n",
      "train.csv\n",
      "\n"
     ]
    }
   ],
   "source": [
    "# This Python 3 environment comes with many helpful analytics libraries installed\n",
    "# It is defined by the kaggle/python docker image: https://github.com/kaggle/docker-python\n",
    "# For example, here's several helpful packages to load in \n",
    "\n",
    "import numpy as np # linear algebra\n",
    "import pandas as pd # data processing, CSV file I/O (e.g. pd.read_csv)\n",
    "\n",
    "# Input data files are available in the \"../input/\" directory.\n",
    "# For example, running this (by clicking run or pressing Shift+Enter) will list the files in the input directory\n",
    "\n",
    "from subprocess import check_output\n",
    "print(check_output([\"ls\", \"../Titanic\"]).decode(\"utf8\"))\n",
    "\n",
    "# Any results you write to the current directory are saved as output."
   ]
  },
  {
   "cell_type": "markdown",
   "metadata": {},
   "source": [
    "# 数据预览"
   ]
  },
  {
   "cell_type": "code",
   "execution_count": 19,
   "metadata": {},
   "outputs": [
    {
     "name": "stdout",
     "output_type": "stream",
     "text": [
      "<class 'pandas.core.frame.DataFrame'>\n",
      "RangeIndex: 891 entries, 0 to 890\n",
      "Data columns (total 12 columns):\n",
      "PassengerId    891 non-null int64\n",
      "Survived       891 non-null int64\n",
      "Pclass         891 non-null int64\n",
      "Name           891 non-null object\n",
      "Sex            891 non-null object\n",
      "Age            714 non-null float64\n",
      "SibSp          891 non-null int64\n",
      "Parch          891 non-null int64\n",
      "Ticket         891 non-null object\n",
      "Fare           891 non-null float64\n",
      "Cabin          204 non-null object\n",
      "Embarked       889 non-null object\n",
      "dtypes: float64(2), int64(5), object(5)\n",
      "memory usage: 83.6+ KB\n",
      "<class 'pandas.core.frame.DataFrame'>\n",
      "RangeIndex: 418 entries, 0 to 417\n",
      "Data columns (total 11 columns):\n",
      "PassengerId    418 non-null int64\n",
      "Pclass         418 non-null int64\n",
      "Name           418 non-null object\n",
      "Sex            418 non-null object\n",
      "Age            332 non-null float64\n",
      "SibSp          418 non-null int64\n",
      "Parch          418 non-null int64\n",
      "Ticket         418 non-null object\n",
      "Fare           417 non-null float64\n",
      "Cabin          91 non-null object\n",
      "Embarked       418 non-null object\n",
      "dtypes: float64(2), int64(4), object(5)\n",
      "memory usage: 36.0+ KB\n"
     ]
    }
   ],
   "source": [
    "data_train = pd.read_csv(\"../Titanic/train.csv\")\n",
    "data_test = pd.read_csv(\"../Titanic/test.csv\")\n",
    "\n",
    "# 分别输出训练数据和验证数据的基本信息。对数据的规模、各特征的数据类型及是否缺失有一个总体了解\n",
    "data_train.info()  # 数据统计信息\n",
    "\n",
    "data_test.info()\n",
    "\n",
    "# data_train.describe() # 查看数值型列的汇总统计\n",
    "# 总生存率"
   ]
  },
  {
   "cell_type": "markdown",
   "metadata": {},
   "source": [
    "# 数据分析"
   ]
  },
  {
   "cell_type": "markdown",
   "metadata": {},
   "source": [
    "# 特征选择"
   ]
  },
  {
   "cell_type": "code",
   "execution_count": 20,
   "metadata": {},
   "outputs": [
    {
     "data": {
      "text/plain": [
       "'\\nfrom sklearn import feature_selection\\n\\n# 通过交叉验证，筛选前%的特征。chi2（卡方检验）/f_classif\\npercentiles = range(1, 100, 2)\\nfor percent in percentiles:\\n    fs = feature_selection.SelectPercentitle(feature_selection.chi2, percentile=percent)\\n    X_train_fs = fs.fit_transform(X_train, y_train)\\n    scores = cross_val_score(dt, X_train_fs, y_train, cv = 5)\\n    results = np.append(results, scores.mean())\\nprint(results)\\n# 找到最佳性能的特征筛选百分比\\nopt = np.where(results == results.max())[0]\\nprint(\"Optimal number of features {}\".format(percentiles[opt]))\\n\\nimport pylab as pl\\npl.plot(percentiles, results)\\npl.xlabel(\"percentiles of features\")\\npl.ylabel(\"accuracy\")\\npl.show()\\n'"
      ]
     },
     "execution_count": 20,
     "metadata": {},
     "output_type": "execute_result"
    }
   ],
   "source": [
    "\"\"\"\n",
    "from sklearn import feature_selection\n",
    "\n",
    "# 通过交叉验证，筛选前%的特征。chi2（卡方检验）/f_classif\n",
    "percentiles = range(1, 100, 2)\n",
    "for percent in percentiles:\n",
    "    fs = feature_selection.SelectPercentitle(feature_selection.chi2, percentile=percent)\n",
    "    X_train_fs = fs.fit_transform(X_train, y_train)\n",
    "    scores = cross_val_score(dt, X_train_fs, y_train, cv = 5)\n",
    "    results = np.append(results, scores.mean())\n",
    "print(results)\n",
    "# 找到最佳性能的特征筛选百分比\n",
    "opt = np.where(results == results.max())[0]\n",
    "print(\"Optimal number of features {}\".format(percentiles[opt]))\n",
    "\n",
    "import pylab as pl\n",
    "pl.plot(percentiles, results)\n",
    "pl.xlabel(\"percentiles of features\")\n",
    "pl.ylabel(\"accuracy\")\n",
    "pl.show()\n",
    "\"\"\""
   ]
  },
  {
   "cell_type": "code",
   "execution_count": 21,
   "metadata": {
    "collapsed": true
   },
   "outputs": [],
   "source": [
    "selected_features = ['Pclass', 'Sex', 'Age', 'Embarked', 'SibSp', 'Parch', 'Fare']\n",
    "\n",
    "X_train = data_train[selected_features]\n",
    "X_test = data_test[selected_features]\n",
    "\n",
    "y_train = data_train['Survived']"
   ]
  },
  {
   "cell_type": "markdown",
   "metadata": {},
   "source": [
    "# 填补缺失值"
   ]
  },
  {
   "cell_type": "code",
   "execution_count": 22,
   "metadata": {},
   "outputs": [
    {
     "name": "stdout",
     "output_type": "stream",
     "text": [
      "S    644\n",
      "C    168\n",
      "Q     77\n",
      "Name: Embarked, dtype: int64\n",
      "S    270\n",
      "C    102\n",
      "Q     46\n",
      "Name: Embarked, dtype: int64\n"
     ]
    },
    {
     "name": "stderr",
     "output_type": "stream",
     "text": [
      "/Users/liuyuzhe/anaconda/envs/python36/lib/python3.6/site-packages/pandas/core/generic.py:3660: SettingWithCopyWarning: \n",
      "A value is trying to be set on a copy of a slice from a DataFrame\n",
      "\n",
      "See the caveats in the documentation: http://pandas.pydata.org/pandas-docs/stable/indexing.html#indexing-view-versus-copy\n",
      "  self._update_inplace(new_data)\n"
     ]
    }
   ],
   "source": [
    "# Embarked\n",
    "print(X_train['Embarked'].value_counts())\n",
    "print(X_test['Embarked'].value_counts())\n",
    "\n",
    "# 对于这种类别型的特征，使用出现频率最高的特征值来填充\n",
    "X_train['Embarked'].fillna('S', inplace=True) # 替换空值，inplace=True直接修改\n",
    "X_test['Embarked'].fillna('S', inplace=True)"
   ]
  },
  {
   "cell_type": "code",
   "execution_count": 23,
   "metadata": {},
   "outputs": [
    {
     "name": "stderr",
     "output_type": "stream",
     "text": [
      "/Users/liuyuzhe/anaconda/envs/python36/lib/python3.6/site-packages/pandas/core/generic.py:3660: SettingWithCopyWarning: \n",
      "A value is trying to be set on a copy of a slice from a DataFrame\n",
      "\n",
      "See the caveats in the documentation: http://pandas.pydata.org/pandas-docs/stable/indexing.html#indexing-view-versus-copy\n",
      "  self._update_inplace(new_data)\n"
     ]
    }
   ],
   "source": [
    "# Age\n",
    "\n",
    "# 对于这种数值型的特征，用求平均值或中位数来填充\n",
    "X_train['Age'].fillna(X_train['Age'].mean(), inplace=True)  # mean均值，median中位数\n",
    "X_test['Age'].fillna(X_test['Age'].mean(), inplace=True)\n",
    "\n",
    "# Fare\n",
    "X_test['Fare'].fillna(X_test['Fare'].mean(), inplace=True)"
   ]
  },
  {
   "cell_type": "code",
   "execution_count": 24,
   "metadata": {},
   "outputs": [
    {
     "name": "stdout",
     "output_type": "stream",
     "text": [
      "<class 'pandas.core.frame.DataFrame'>\n",
      "RangeIndex: 891 entries, 0 to 890\n",
      "Data columns (total 7 columns):\n",
      "Pclass      891 non-null int64\n",
      "Sex         891 non-null object\n",
      "Age         891 non-null float64\n",
      "Embarked    891 non-null object\n",
      "SibSp       891 non-null int64\n",
      "Parch       891 non-null int64\n",
      "Fare        891 non-null float64\n",
      "dtypes: float64(2), int64(3), object(2)\n",
      "memory usage: 48.8+ KB\n",
      "None\n",
      "<class 'pandas.core.frame.DataFrame'>\n",
      "RangeIndex: 418 entries, 0 to 417\n",
      "Data columns (total 7 columns):\n",
      "Pclass      418 non-null int64\n",
      "Sex         418 non-null object\n",
      "Age         418 non-null float64\n",
      "Embarked    418 non-null object\n",
      "SibSp       418 non-null int64\n",
      "Parch       418 non-null int64\n",
      "Fare        418 non-null float64\n",
      "dtypes: float64(2), int64(3), object(2)\n",
      "memory usage: 22.9+ KB\n",
      "None\n"
     ]
    }
   ],
   "source": [
    "# 重新查验数据\n",
    "print(X_train.info())\n",
    "print(X_test.info())"
   ]
  },
  {
   "cell_type": "markdown",
   "metadata": {},
   "source": [
    "# 特征向量化"
   ]
  },
  {
   "cell_type": "code",
   "execution_count": 25,
   "metadata": {},
   "outputs": [
    {
     "name": "stdout",
     "output_type": "stream",
     "text": [
      "['Age', 'Embarked=C', 'Embarked=Q', 'Embarked=S', 'Fare', 'Parch', 'Pclass', 'Sex=female', 'Sex=male', 'SibSp']\n"
     ]
    }
   ],
   "source": [
    "from sklearn.feature_extraction import DictVectorizer\n",
    "\n",
    "dict_vec = DictVectorizer(sparse=False)\n",
    "X_train = dict_vec.fit_transform(X_train.to_dict(orient=\"record\"))\n",
    "print(dict_vec.feature_names_)\n",
    "\n",
    "X_test = dict_vec.transform(X_test.to_dict(orient='record'))"
   ]
  },
  {
   "cell_type": "markdown",
   "metadata": {},
   "source": [
    "## 随机森林"
   ]
  },
  {
   "cell_type": "code",
   "execution_count": 26,
   "metadata": {},
   "outputs": [
    {
     "name": "stdout",
     "output_type": "stream",
     "text": [
      "0.80144181103\n"
     ]
    }
   ],
   "source": [
    "from sklearn.ensemble import RandomForestClassifier\n",
    "\n",
    "# 使用默认配置初始化\n",
    "rfc = RandomForestClassifier()\n",
    "\n",
    "# 使用交叉验证评估性能\n",
    "from sklearn.cross_validation import cross_val_score\n",
    "rfc_score = cross_val_score(rfc, X_train, y_train, cv=5).mean()  # 5折交叉验证，取得分的均值\n",
    "print(rfc_score)\n",
    "\n",
    "# 训练，预测\n",
    "rfc.fit(X_train, y_train)\n",
    "rfc_y_predict = rfc.predict(X_test)\n",
    "\n",
    "# 存储\n",
    "rfc_submission = pd.DataFrame({'PassengerId': data_test['PassengerId'], 'Survived': rfc_y_predict})\n",
    "rfc_submission.to_csv(\"./rfc_submission.csv\", index=False) # index:是否含列名"
   ]
  },
  {
   "cell_type": "markdown",
   "metadata": {},
   "source": [
    "# xgboost"
   ]
  },
  {
   "cell_type": "code",
   "execution_count": 29,
   "metadata": {},
   "outputs": [
    {
     "name": "stdout",
     "output_type": "stream",
     "text": [
      "0.818245597983\n"
     ]
    }
   ],
   "source": [
    "from xgboost import XGBClassifier\n",
    "\n",
    "# 使用默认配置初始化\n",
    "xgbc = XGBClassifier()\n",
    "\n",
    "# 使用交叉验证评估性能\n",
    "xgbc_score = cross_val_score(xgbc, X_train, y_train, cv=5).mean()\n",
    "print(xgbc_score)\n",
    "\n",
    "# 训练，预测\n",
    "xgbc.fit(X_train, y_train)\n",
    "xgbc_y_predict = xgbc.predict(X_test)\n",
    "\n",
    "# 存储\n",
    "xgbc_submission = pd.DataFrame({'PassengerId': data_test['PassengerId'], 'Survived': xgbc_y_predict})\n",
    "xgbc_submission.to_csv(\"./xgbc_submission.csv\", index=False)"
   ]
  },
  {
   "cell_type": "markdown",
   "metadata": {},
   "source": [
    "# 使用并行网格搜索寻找超参数组合"
   ]
  },
  {
   "cell_type": "code",
   "execution_count": 38,
   "metadata": {},
   "outputs": [
    {
     "name": "stdout",
     "output_type": "stream",
     "text": [
      "Fitting 5 folds for each of 125 candidates, totalling 625 fits\n"
     ]
    },
    {
     "name": "stderr",
     "output_type": "stream",
     "text": [
      "[Parallel(n_jobs=-1)]: Done  76 tasks      | elapsed:    4.9s\n",
      "[Parallel(n_jobs=-1)]: Done 376 tasks      | elapsed:   26.9s\n",
      "[Parallel(n_jobs=-1)]: Done 618 out of 625 | elapsed:   42.9s remaining:    0.5s\n"
     ]
    },
    {
     "name": "stdout",
     "output_type": "stream",
     "text": [
      "0.835016835016835\n",
      "{'learning_rate': 0.1, 'max_depth': 5, 'n_estimators': 100}\n"
     ]
    },
    {
     "name": "stderr",
     "output_type": "stream",
     "text": [
      "[Parallel(n_jobs=-1)]: Done 625 out of 625 | elapsed:   43.7s finished\n"
     ]
    }
   ],
   "source": [
    "from sklearn.grid_search import GridSearchCV\n",
    "\n",
    "# python3中的range返回的是一个迭代值\n",
    "params = {'max_depth': list(range(2, 7)), \n",
    "          'n_estimators': list(range(100, 1100, 200)),\n",
    "          'learning_rate': [0.05, 0.1, 0.25, 0.5, 1.0]}\n",
    "xgbc_best = XGBClassifier()\n",
    "\n",
    "# n_jobs:多CPU\n",
    "gs = GridSearchCV(xgbc_best, params, n_jobs=-1, cv=5, verbose=1)\n",
    "gs.fit(X_train, y_train)\n",
    "\n",
    "print(gs.best_score_)\n",
    "print(gs.best_params_)\n",
    "\n",
    "xgbc_best_y_predict = gs.predict(X_test)\n",
    "\n",
    "# 存储\n",
    "xgbc_best_submission = pd.DataFrame({'PassengerId': data_test['PassengerId'], 'Survived': xgbc_best_y_predict})\n",
    "xgbc_best_submission.to_csv(\"./xgbc_best_submission.csv\", index=False)"
   ]
  }
 ],
 "metadata": {
  "kernelspec": {
   "display_name": "Python 3",
   "language": "python",
   "name": "python3"
  },
  "language_info": {
   "codemirror_mode": {
    "name": "ipython",
    "version": 3
   },
   "file_extension": ".py",
   "mimetype": "text/x-python",
   "name": "python",
   "nbconvert_exporter": "python",
   "pygments_lexer": "ipython3",
   "version": "3.6.2"
  }
 },
 "nbformat": 4,
 "nbformat_minor": 2
}
