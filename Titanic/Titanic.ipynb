{
 "cells": [
  {
   "cell_type": "code",
   "execution_count": null,
   "metadata": {},
   "outputs": [],
   "source": [
    "# This Python 3 environment comes with many helpful analytics libraries installed\n",
    "# It is defined by the kaggle/python docker image: https://github.com/kaggle/docker-python\n",
    "# For example, here's several helpful packages to load in \n",
    "\n",
    "import numpy as np # linear algebra\n",
    "import pandas as pd # data processing, CSV file I/O (e.g. pd.read_csv)\n",
    "\n",
    "# Input data files are available in the \"../input/\" directory.\n",
    "# For example, running this (by clicking run or pressing Shift+Enter) will list the files in the input directory\n",
    "\n",
    "from subprocess import check_output\n",
    "print(check_output([\"ls\", \"./input\"]).decode(\"utf8\"))\n",
    "\n",
    "# Any results you write to the current directory are saved as output."
   ]
  },
  {
   "cell_type": "markdown",
   "metadata": {},
   "source": [
    "# 数据预览"
   ]
  },
  {
   "cell_type": "code",
   "execution_count": null,
   "metadata": {},
   "outputs": [],
   "source": [
    "data_train = pd.read_csv(\"./input/train.csv\")\n",
    "data_test = pd.read_csv(\"./input/test.csv\")\n",
    "\n",
    "# 分别输出训练数据和验证数据的基本信息。对数据的规模、各特征的数据类型及是否缺失有一个总体了解\n",
    "data_train.info()  # 数据统计信息\n",
    "\n",
    "data_test.info()\n",
    "\n",
    "# data_train.describe() # 查看数值型列的汇总统计\n",
    "# 总生存率"
   ]
  },
  {
   "cell_type": "markdown",
   "metadata": {},
   "source": [
    "# 数据分析"
   ]
  },
  {
   "cell_type": "markdown",
   "metadata": {},
   "source": [
    "# 特征选择"
   ]
  },
  {
   "cell_type": "code",
   "execution_count": null,
   "metadata": {},
   "outputs": [],
   "source": [
    "\"\"\"\n",
    "from sklearn import feature_selection\n",
    "\n",
    "# 通过交叉验证，筛选前%的特征。chi2（卡方检验）/f_classif\n",
    "percentiles = range(1, 100, 2)\n",
    "for percent in percentiles:\n",
    "    fs = feature_selection.SelectPercentitle(feature_selection.chi2, percentile=percent)\n",
    "    X_train_fs = fs.fit_transform(X_train, y_train)\n",
    "    scores = cross_val_score(dt, X_train_fs, y_train, cv = 5)\n",
    "    results = np.append(results, scores.mean())\n",
    "print(results)\n",
    "# 找到最佳性能的特征筛选百分比\n",
    "opt = np.where(results == results.max())[0]\n",
    "print(\"Optimal number of features {}\".format(percentiles[opt]))\n",
    "\n",
    "import pylab as pl\n",
    "pl.plot(percentiles, results)\n",
    "pl.xlabel(\"percentiles of features\")\n",
    "pl.ylabel(\"accuracy\")\n",
    "pl.show()\n",
    "\"\"\""
   ]
  },
  {
   "cell_type": "code",
   "execution_count": null,
   "metadata": {
    "collapsed": true
   },
   "outputs": [],
   "source": [
    "selected_features = ['Pclass', 'Sex', 'Age', 'Embarked', 'SibSp', 'Parch', 'Fare']\n",
    "\n",
    "X_train = data_train[selected_features]\n",
    "X_test = data_test[selected_features]\n",
    "\n",
    "y_train = data_train['Survived']"
   ]
  },
  {
   "cell_type": "markdown",
   "metadata": {},
   "source": [
    "# 填补缺失值"
   ]
  },
  {
   "cell_type": "code",
   "execution_count": null,
   "metadata": {},
   "outputs": [],
   "source": [
    "# Embarked\n",
    "print(X_train['Embarked'].value_counts())\n",
    "print(X_test['Embarked'].value_counts())\n",
    "\n",
    "# 对于这种类别型的特征，使用出现频率最高的特征值来填充\n",
    "X_train['Embarked'].fillna('S', inplace=True) # 替换空值，inplace=True直接修改\n",
    "X_test['Embarked'].fillna('S', inplace=True)"
   ]
  },
  {
   "cell_type": "code",
   "execution_count": null,
   "metadata": {},
   "outputs": [],
   "source": [
    "# Age\n",
    "\n",
    "# 对于这种数值型的特征，用求平均值或中位数来填充\n",
    "X_train['Age'].fillna(X_train['Age'].mean(), inplace=True)  # mean均值，median中位数\n",
    "X_test['Age'].fillna(X_test['Age'].mean(), inplace=True)\n",
    "\n",
    "# Fare\n",
    "X_test['Fare'].fillna(X_test['Fare'].mean(), inplace=True)"
   ]
  },
  {
   "cell_type": "code",
   "execution_count": null,
   "metadata": {},
   "outputs": [],
   "source": [
    "# 重新查验数据\n",
    "print(X_train.info())\n",
    "print(X_test.info())"
   ]
  },
  {
   "cell_type": "markdown",
   "metadata": {},
   "source": [
    "# 特征向量化"
   ]
  },
  {
   "cell_type": "code",
   "execution_count": null,
   "metadata": {},
   "outputs": [],
   "source": [
    "from sklearn.feature_extraction import DictVectorizer\n",
    "\n",
    "dict_vec = DictVectorizer(sparse=False)\n",
    "X_train = dict_vec.fit_transform(X_train.to_dict(orient=\"record\"))\n",
    "print(dict_vec.feature_names_)\n",
    "\n",
    "X_test = dict_vec.transform(X_test.to_dict(orient='record'))"
   ]
  },
  {
   "cell_type": "markdown",
   "metadata": {},
   "source": [
    "## 随机森林"
   ]
  },
  {
   "cell_type": "code",
   "execution_count": null,
   "metadata": {},
   "outputs": [],
   "source": [
    "from sklearn.ensemble import RandomForestClassifier\n",
    "\n",
    "# 使用默认配置初始化\n",
    "rfc = RandomForestClassifier()\n",
    "\n",
    "# 使用交叉验证评估性能\n",
    "from sklearn.cross_validation import cross_val_score\n",
    "rfc_score = cross_val_score(rfc, X_train, y_train, cv=5).mean()  # 5折交叉验证，取得分的均值\n",
    "print(rfc_score)\n",
    "\n",
    "# 训练，预测\n",
    "rfc.fit(X_train, y_train)\n",
    "rfc_y_predict = rfc.predict(X_test)\n",
    "\n",
    "# 存储\n",
    "rfc_submission = pd.DataFrame({'PassengerId': data_test['PassengerId'], 'Survived': rfc_y_predict})\n",
    "rfc_submission.to_csv(\"./output/rfc_submission.csv\", index=False) # index:是否含列名"
   ]
  },
  {
   "cell_type": "markdown",
   "metadata": {},
   "source": [
    "# xgboost"
   ]
  },
  {
   "cell_type": "code",
   "execution_count": null,
   "metadata": {},
   "outputs": [],
   "source": [
    "from xgboost import XGBClassifier\n",
    "\n",
    "# 使用默认配置初始化\n",
    "xgbc = XGBClassifier()\n",
    "\n",
    "# 使用交叉验证评估性能\n",
    "xgbc_score = cross_val_score(xgbc, X_train, y_train, cv=5).mean()\n",
    "print(xgbc_score)\n",
    "\n",
    "# 训练，预测\n",
    "xgbc.fit(X_train, y_train)\n",
    "xgbc_y_predict = xgbc.predict(X_test)\n",
    "\n",
    "# 存储\n",
    "xgbc_submission = pd.DataFrame({'PassengerId': data_test['PassengerId'], 'Survived': xgbc_y_predict})\n",
    "xgbc_submission.to_csv(\"./output/xgbc_submission.csv\", index=False)"
   ]
  },
  {
   "cell_type": "markdown",
   "metadata": {},
   "source": [
    "# 使用并行网格搜索寻找超参数组合"
   ]
  },
  {
   "cell_type": "code",
   "execution_count": null,
   "metadata": {},
   "outputs": [],
   "source": [
    "from sklearn.grid_search import GridSearchCV\n",
    "\n",
    "# python3中的range返回的是一个迭代值\n",
    "params = {'max_depth': list(range(2, 7)), \n",
    "          'n_estimators': list(range(100, 1100, 200)),\n",
    "          'learning_rate': [0.05, 0.1, 0.25, 0.5, 1.0]}\n",
    "xgbc_best = XGBClassifier()\n",
    "\n",
    "# n_jobs:多CPU\n",
    "gs = GridSearchCV(xgbc_best, params, n_jobs=-1, cv=5, verbose=1)\n",
    "gs.fit(X_train, y_train)\n",
    "\n",
    "print(gs.best_score_)\n",
    "print(gs.best_params_)\n",
    "\n",
    "xgbc_best_y_predict = gs.predict(X_test)\n",
    "\n",
    "# 存储\n",
    "xgbc_best_submission = pd.DataFrame({'PassengerId': data_test['PassengerId'], 'Survived': xgbc_best_y_predict})\n",
    "xgbc_best_submission.to_csv(\"./output/xgbc_best_submission.csv\", index=False)"
   ]
  }
 ],
 "metadata": {
  "kernelspec": {
   "display_name": "Python 3",
   "language": "python",
   "name": "python3"
  },
  "language_info": {
   "codemirror_mode": {
    "name": "ipython",
    "version": 3
   },
   "file_extension": ".py",
   "mimetype": "text/x-python",
   "name": "python",
   "nbconvert_exporter": "python",
   "pygments_lexer": "ipython3",
   "version": "3.6.2"
  }
 },
 "nbformat": 4,
 "nbformat_minor": 2
}
